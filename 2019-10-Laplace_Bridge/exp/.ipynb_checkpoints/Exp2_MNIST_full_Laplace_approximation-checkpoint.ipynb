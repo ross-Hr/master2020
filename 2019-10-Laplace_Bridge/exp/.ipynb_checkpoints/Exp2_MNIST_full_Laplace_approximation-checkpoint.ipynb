{
 "cells": [
  {
   "cell_type": "code",
   "execution_count": 1,
   "metadata": {},
   "outputs": [],
   "source": [
    "import torch\n",
    "import torchvision\n",
    "from torch import nn, optim, autograd\n",
    "from torch.nn import functional as F\n",
    "from torch.distributions.multivariate_normal import MultivariateNormal\n",
    "from torch.autograd import Variable\n",
    "import numpy as np\n",
    "#import input_data\n",
    "from sklearn.utils import shuffle as skshuffle\n",
    "from math import *\n",
    "from backpack import backpack, extend\n",
    "from backpack.extensions import KFAC, DiagHessian, DiagGGNMC\n",
    "from sklearn.metrics import roc_auc_score\n",
    "import scipy\n",
    "from tqdm import tqdm, trange\n",
    "from bpjacext import NetJac\n",
    "import pytest\n",
    "from DirLPA_utils import * \n",
    "import time\n",
    "\n",
    "import matplotlib.pyplot as plt\n",
    "\n",
    "s = 127\n",
    "np.random.seed(s)\n",
    "torch.manual_seed(s)\n",
    "torch.cuda.manual_seed(s)"
   ]
  },
  {
   "cell_type": "code",
   "execution_count": 2,
   "metadata": {},
   "outputs": [],
   "source": [
    "def LPADirNN(num_classes=10, num_LL=256):\n",
    "    \n",
    "    features = torch.nn.Sequential(\n",
    "        torch.nn.Conv2d(1, 32, 5),\n",
    "        torch.nn.ReLU(),\n",
    "        torch.nn.MaxPool2d(2,2),\n",
    "        torch.nn.Conv2d(32, 64, 5),\n",
    "        torch.nn.ReLU(),\n",
    "        torch.nn.MaxPool2d(2,2),\n",
    "        torch.nn.Flatten(),\n",
    "        torch.nn.Linear(4 * 4 * 64, num_LL), #changed from 500\n",
    "        torch.nn.Linear(num_LL, num_classes)  #changed from 500\n",
    "    )\n",
    "    return(features)"
   ]
  },
  {
   "cell_type": "code",
   "execution_count": 3,
   "metadata": {},
   "outputs": [],
   "source": [
    "BATCH_SIZE_TRAIN_MNIST = 128\n",
    "BATCH_SIZE_TEST_MNIST = 128\n",
    "MAX_ITER_MNIST = 6\n",
    "LR_TRAIN_MNIST = 10e-6"
   ]
  },
  {
   "cell_type": "code",
   "execution_count": 4,
   "metadata": {},
   "outputs": [],
   "source": [
    "MNIST_transform = torchvision.transforms.ToTensor()\n",
    "\n",
    "MNIST_train = torchvision.datasets.MNIST(\n",
    "        '~/data/mnist',\n",
    "        train=True,\n",
    "        download=True,\n",
    "        transform=MNIST_transform)\n",
    "\n",
    "mnist_train_loader = torch.utils.data.dataloader.DataLoader(\n",
    "    MNIST_train,\n",
    "    batch_size=BATCH_SIZE_TRAIN_MNIST,\n",
    "    shuffle=True\n",
    ")\n",
    "\n",
    "\n",
    "MNIST_test = torchvision.datasets.MNIST(\n",
    "        '~/data/mnist',\n",
    "        train=False,\n",
    "        download=False,\n",
    "        transform=MNIST_transform)\n",
    "\n",
    "mnist_test_loader = torch.utils.data.dataloader.DataLoader(\n",
    "    MNIST_test,\n",
    "    batch_size=BATCH_SIZE_TEST_MNIST,\n",
    "    shuffle=False,\n",
    ")"
   ]
  },
  {
   "cell_type": "code",
   "execution_count": 6,
   "metadata": {},
   "outputs": [],
   "source": [
    "mnist_model = LPADirNN(num_LL=256)\n",
    "loss_function = torch.nn.CrossEntropyLoss()\n",
    "\n",
    "mnist_train_optimizer = torch.optim.Adam(mnist_model.parameters(), lr=1e-3, weight_decay=5e-4)\n",
    "MNIST_PATH = \"weights/mnist_test_6iter_10c_simpleCNN_256.pth\""
   ]
  },
  {
   "cell_type": "code",
   "execution_count": 9,
   "metadata": {},
   "outputs": [],
   "source": [
    "#Training routine\n",
    "\n",
    "def train(model, train_loader, optimizer, max_iter, path, verbose=True):\n",
    "    max_len = len(train_loader)\n",
    "\n",
    "    for iter in range(max_iter):\n",
    "        for batch_idx, (x, y) in enumerate(train_loader):\n",
    "            \n",
    "            x, y = x, y#.cuda()\n",
    "            \n",
    "            output = model(x)\n",
    "\n",
    "            accuracy = get_accuracy(output, y)\n",
    "\n",
    "            loss = loss_function(output, y)\n",
    "            loss.backward()\n",
    "            optimizer.step()\n",
    "            optimizer.zero_grad()\n",
    "\n",
    "            if verbose and batch_idx % 50 == 0:\n",
    "                print(\n",
    "                    \"Iteration {}; {}/{} \\t\".format(iter, batch_idx, max_len) +\n",
    "                    \"Minibatch Loss %.3f  \" % (loss) +\n",
    "                    \"Accuracy %.0f\" % (accuracy * 100) + \"%\"\n",
    "                )\n",
    "\n",
    "    print(\"saving model at: {}\".format(path))\n",
    "    torch.save(mnist_model.state_dict(), path)"
   ]
  },
  {
   "cell_type": "code",
   "execution_count": 10,
   "metadata": {},
   "outputs": [
    {
     "name": "stdout",
     "output_type": "stream",
     "text": [
      "Iteration 0; 0/469 \tMinibatch Loss 0.117  Accuracy 97%\n",
      "Iteration 0; 50/469 \tMinibatch Loss 0.080  Accuracy 98%\n",
      "Iteration 0; 100/469 \tMinibatch Loss 0.086  Accuracy 98%\n",
      "Iteration 0; 150/469 \tMinibatch Loss 0.076  Accuracy 98%\n",
      "Iteration 0; 200/469 \tMinibatch Loss 0.121  Accuracy 95%\n",
      "Iteration 0; 250/469 \tMinibatch Loss 0.056  Accuracy 98%\n",
      "Iteration 0; 300/469 \tMinibatch Loss 0.054  Accuracy 98%\n",
      "Iteration 0; 350/469 \tMinibatch Loss 0.078  Accuracy 97%\n",
      "Iteration 0; 400/469 \tMinibatch Loss 0.083  Accuracy 98%\n",
      "Iteration 0; 450/469 \tMinibatch Loss 0.038  Accuracy 99%\n",
      "Iteration 1; 0/469 \tMinibatch Loss 0.105  Accuracy 98%\n",
      "Iteration 1; 50/469 \tMinibatch Loss 0.072  Accuracy 98%\n",
      "Iteration 1; 100/469 \tMinibatch Loss 0.045  Accuracy 98%\n",
      "Iteration 1; 150/469 \tMinibatch Loss 0.071  Accuracy 96%\n",
      "Iteration 1; 200/469 \tMinibatch Loss 0.117  Accuracy 98%\n",
      "Iteration 1; 250/469 \tMinibatch Loss 0.072  Accuracy 98%\n",
      "Iteration 1; 300/469 \tMinibatch Loss 0.058  Accuracy 98%\n",
      "Iteration 1; 350/469 \tMinibatch Loss 0.048  Accuracy 99%\n",
      "Iteration 1; 400/469 \tMinibatch Loss 0.020  Accuracy 99%\n",
      "Iteration 1; 450/469 \tMinibatch Loss 0.062  Accuracy 97%\n",
      "Iteration 2; 0/469 \tMinibatch Loss 0.035  Accuracy 99%\n",
      "Iteration 2; 50/469 \tMinibatch Loss 0.027  Accuracy 100%\n",
      "Iteration 2; 100/469 \tMinibatch Loss 0.027  Accuracy 98%\n",
      "Iteration 2; 150/469 \tMinibatch Loss 0.075  Accuracy 96%\n",
      "Iteration 2; 200/469 \tMinibatch Loss 0.025  Accuracy 98%\n",
      "Iteration 2; 250/469 \tMinibatch Loss 0.028  Accuracy 98%\n",
      "Iteration 2; 300/469 \tMinibatch Loss 0.054  Accuracy 98%\n",
      "Iteration 2; 350/469 \tMinibatch Loss 0.068  Accuracy 97%\n",
      "Iteration 2; 400/469 \tMinibatch Loss 0.029  Accuracy 99%\n",
      "Iteration 2; 450/469 \tMinibatch Loss 0.057  Accuracy 98%\n",
      "Iteration 3; 0/469 \tMinibatch Loss 0.033  Accuracy 99%\n",
      "Iteration 3; 50/469 \tMinibatch Loss 0.029  Accuracy 98%\n",
      "Iteration 3; 100/469 \tMinibatch Loss 0.025  Accuracy 98%\n",
      "Iteration 3; 150/469 \tMinibatch Loss 0.016  Accuracy 100%\n",
      "Iteration 3; 200/469 \tMinibatch Loss 0.063  Accuracy 97%\n",
      "Iteration 3; 250/469 \tMinibatch Loss 0.017  Accuracy 99%\n",
      "Iteration 3; 300/469 \tMinibatch Loss 0.021  Accuracy 99%\n",
      "Iteration 3; 350/469 \tMinibatch Loss 0.027  Accuracy 99%\n",
      "Iteration 3; 400/469 \tMinibatch Loss 0.026  Accuracy 98%\n",
      "Iteration 3; 450/469 \tMinibatch Loss 0.049  Accuracy 98%\n",
      "Iteration 4; 0/469 \tMinibatch Loss 0.013  Accuracy 100%\n",
      "Iteration 4; 50/469 \tMinibatch Loss 0.023  Accuracy 99%\n",
      "Iteration 4; 100/469 \tMinibatch Loss 0.097  Accuracy 98%\n",
      "Iteration 4; 150/469 \tMinibatch Loss 0.017  Accuracy 99%\n",
      "Iteration 4; 200/469 \tMinibatch Loss 0.054  Accuracy 98%\n",
      "Iteration 4; 250/469 \tMinibatch Loss 0.015  Accuracy 99%\n",
      "Iteration 4; 300/469 \tMinibatch Loss 0.009  Accuracy 100%\n",
      "Iteration 4; 350/469 \tMinibatch Loss 0.023  Accuracy 99%\n",
      "Iteration 4; 400/469 \tMinibatch Loss 0.020  Accuracy 99%\n",
      "Iteration 4; 450/469 \tMinibatch Loss 0.038  Accuracy 98%\n",
      "Iteration 5; 0/469 \tMinibatch Loss 0.056  Accuracy 98%\n",
      "Iteration 5; 50/469 \tMinibatch Loss 0.006  Accuracy 100%\n",
      "Iteration 5; 100/469 \tMinibatch Loss 0.023  Accuracy 98%\n",
      "Iteration 5; 150/469 \tMinibatch Loss 0.009  Accuracy 100%\n",
      "Iteration 5; 200/469 \tMinibatch Loss 0.041  Accuracy 98%\n",
      "Iteration 5; 250/469 \tMinibatch Loss 0.011  Accuracy 100%\n",
      "Iteration 5; 300/469 \tMinibatch Loss 0.036  Accuracy 98%\n",
      "Iteration 5; 350/469 \tMinibatch Loss 0.061  Accuracy 99%\n",
      "Iteration 5; 400/469 \tMinibatch Loss 0.060  Accuracy 98%\n",
      "Iteration 5; 450/469 \tMinibatch Loss 0.113  Accuracy 98%\n",
      "saving model at: weights/mnist_test_6iter_10c_simpleCNN_256.pth\n"
     ]
    }
   ],
   "source": [
    "train(mnist_model, mnist_train_loader, mnist_train_optimizer, MAX_ITER_MNIST, MNIST_PATH, verbose=True)"
   ]
  },
  {
   "cell_type": "code",
   "execution_count": 11,
   "metadata": {},
   "outputs": [
    {
     "name": "stdout",
     "output_type": "stream",
     "text": [
      "loading model from: weights/mnist_test_6iter_10c_simpleCNN_256.pth\n",
      "Batch 0/79 \tAccuracy 98%\n",
      "Batch 10/79 \tAccuracy 97%\n",
      "Batch 20/79 \tAccuracy 98%\n",
      "Batch 30/79 \tAccuracy 98%\n",
      "Batch 40/79 \tAccuracy 99%\n",
      "Batch 50/79 \tAccuracy 99%\n",
      "Batch 60/79 \tAccuracy 100%\n",
      "Batch 70/79 \tAccuracy 98%\n",
      "overall test accuracy on MNIST: 98.53 %\n"
     ]
    }
   ],
   "source": [
    "#predict in distribution\n",
    "MNIST_PATH = \"weights/mnist_test_6iter_10c_simpleCNN_256.pth\"\n",
    "\n",
    "#mnist_model = LPADirNN(x=100)\n",
    "mnist_model = LPADirNN(num_LL=256)#.cuda()\n",
    "print(\"loading model from: {}\".format(MNIST_PATH))\n",
    "mnist_model.load_state_dict(torch.load(MNIST_PATH))\n",
    "mnist_model.eval()\n",
    "\n",
    "acc = []\n",
    "\n",
    "max_len = len(mnist_test_loader)\n",
    "for batch_idx, (x, y) in enumerate(mnist_test_loader):\n",
    "\n",
    "    x, y = x, y#.cuda()\n",
    "    output = mnist_model(x)\n",
    "\n",
    "    accuracy = get_accuracy(output, y)\n",
    "    if batch_idx % 10 == 0:\n",
    "        print(\n",
    "            \"Batch {}/{} \\t\".format(batch_idx, max_len) + \n",
    "            \"Accuracy %.0f\" % (accuracy * 100) + \"%\"\n",
    "        )\n",
    "    acc.append(accuracy)\n",
    "\n",
    "avg_acc = np.mean(acc)\n",
    "print('overall test accuracy on MNIST: {:.02f} %'.format(avg_acc * 100))\n"
   ]
  },
  {
   "cell_type": "code",
   "execution_count": 12,
   "metadata": {},
   "outputs": [],
   "source": [
    "## play around with Backpack\n",
    "def get_Hessian_NN(model, train_loader, var0, device='cpu', verbose=True):\n",
    "    lossfunc = torch.nn.CrossEntropyLoss()\n",
    "\n",
    "    extend(lossfunc, debug=False)\n",
    "    extend(model, debug=False)\n",
    "\n",
    "    Hessian_diag = []\n",
    "    for param in mnist_model.parameters():\n",
    "        ps = param.size()\n",
    "        print(\"parameter size: \", ps)\n",
    "        Hessian_diag.append(torch.zeros(ps, device=device))\n",
    "        #print(param.numel())\n",
    "\n",
    "    tau = 1/var0\n",
    "    max_len = len(train_loader)\n",
    "\n",
    "    with backpack(DiagHessian()):\n",
    "\n",
    "        for batch_idx, (x, y) in enumerate(train_loader):\n",
    "\n",
    "            if device == 'cuda':\n",
    "                x, y = x.cuda(), y.cuda()\n",
    "\n",
    "            model.zero_grad()\n",
    "            loss = lossfunc(model(x), y)\n",
    "            loss.backward()\n",
    "\n",
    "            with torch.no_grad():\n",
    "                # Hessian of weight\n",
    "                for idx, param in enumerate(model.parameters()):\n",
    "\n",
    "                    H_ = param.diag_h\n",
    "                    #add bias here\n",
    "                    H_ += tau * torch.ones(H_.size(), device=device)\n",
    "\n",
    "                    rho = min(1-1/(batch_idx+1), 0.995)\n",
    "\n",
    "                    Hessian_diag[idx] = rho*Hessian_diag[idx] + (1-rho)*H_\n",
    "            \n",
    "            if verbose:\n",
    "                print(\"Batch: {}/{}\".format(batch_idx, max_len))\n",
    "\n",
    "    #combine all elements of the Hessian to one big vector\n",
    "    Hessian_diag = torch.cat([el.view(-1) for el in Hessian_diag])\n",
    "    print(\"Hessian_size: \", Hessian_diag.size())\n",
    "    num_params = np.sum([p.numel() for p in model.parameters()])\n",
    "    assert(num_params == Hessian_diag.size(-1))\n",
    "    return(Hessian_diag)\n",
    "        "
   ]
  },
  {
   "cell_type": "code",
   "execution_count": 13,
   "metadata": {},
   "outputs": [
    {
     "name": "stdout",
     "output_type": "stream",
     "text": [
      "parameter size:  torch.Size([32, 1, 5, 5])\n",
      "parameter size:  torch.Size([32])\n",
      "parameter size:  torch.Size([64, 32, 5, 5])\n",
      "parameter size:  torch.Size([64])\n",
      "parameter size:  torch.Size([256, 1024])\n",
      "parameter size:  torch.Size([256])\n",
      "parameter size:  torch.Size([10, 256])\n",
      "parameter size:  torch.Size([10])\n",
      "Hessian_size:  torch.Size([317066])\n"
     ]
    }
   ],
   "source": [
    "Hessian_MNIST = get_Hessian_NN(model=mnist_model, train_loader=mnist_train_loader, var0=200, verbose=False, device='cpu')"
   ]
  },
  {
   "cell_type": "code",
   "execution_count": 14,
   "metadata": {},
   "outputs": [
    {
     "name": "stdout",
     "output_type": "stream",
     "text": [
      "tensor([0.0065, 0.0057, 0.0054,  ..., 0.0071, 0.0074, 0.0083])\n"
     ]
    }
   ],
   "source": [
    "print(Hessian_MNIST)"
   ]
  },
  {
   "cell_type": "code",
   "execution_count": 15,
   "metadata": {},
   "outputs": [],
   "source": [
    "def compute_jacobians_with_backpack(model, x, y, lossfunc):\n",
    "    \"\"\"\n",
    "    Returns the jacobians of the network\n",
    "\n",
    "    The output is a list. Each element in the list is a tensor\n",
    "    corresponding to the model.parameters().\n",
    "\n",
    "    The tensor are of the form [N, *, C] where N is the batch dimension,\n",
    "    C is the number of classes (output size of the network)\n",
    "    and * is the shape of the model parameters\n",
    "    \"\"\"\n",
    "    loss = lossfunc(model(x), y)\n",
    "\n",
    "    with backpack(NetJac()):\n",
    "        loss.backward()\n",
    "\n",
    "    jacs = []\n",
    "    for p in model.parameters():\n",
    "        jacs.append(p.netjacs.data.detach())\n",
    "    return jacs\n",
    "\n",
    "def transform2full_jac(backpack_jacobian):\n",
    "\n",
    "    jac_full = []\n",
    "    #batch_size\n",
    "    N = backpack_jacobian[0].size(0)\n",
    "    #num classes\n",
    "    k = backpack_jacobian[0].size(-1)\n",
    "    for j in backpack_jacobian:\n",
    "        jac_full.append(j.view(N, -1, k).permute(0,2,1))\n",
    "    jac_full = torch.cat(jac_full, dim=-1)\n",
    "    return(jac_full)\n",
    "\n",
    "def get_Jacobian(model, x, y, lossfunc):\n",
    "    return(transform2full_jac(compute_jacobians_with_backpack(model, x, y, lossfunc)))"
   ]
  },
  {
   "cell_type": "code",
   "execution_count": 16,
   "metadata": {},
   "outputs": [],
   "source": [
    "def predict_Diagonal_full(model, test_loader, Hessian, verbose=True, num_samples=100, cuda=False, timing=False):\n",
    "    \n",
    "    lossfunc = torch.nn.CrossEntropyLoss()\n",
    "    extend(lossfunc, debug=False)\n",
    "    \n",
    "    py = []\n",
    "    if timing:\n",
    "        time_sum = 0\n",
    "    \n",
    "    max_len = len(test_loader)\n",
    "    for batch_idx, (x, y) in enumerate(test_loader):\n",
    "        \n",
    "        if cuda:\n",
    "            x, y = x, y#.cuda()\n",
    "        \n",
    "        J = get_Jacobian(model, x, y, lossfunc)\n",
    "        J = J.detach()\n",
    "        batch_size = J.size(0)\n",
    "        num_classes = J.size(1)\n",
    "        Cov_pred = torch.bmm(J * Hessian, J.permute(0, 2, 1))\n",
    "        Cov_pred = Cov_pred.detach()\n",
    "        if verbose:\n",
    "            print(\"Jacobian size: \", J.size())\n",
    "            print(\"cov pred size: \", Cov_pred.size())\n",
    "        \n",
    "        mu_pred = model(x).detach()\n",
    "        post_pred = MultivariateNormal(mu_pred, Cov_pred)\n",
    "\n",
    "        # MC-integral\n",
    "        t0 = time.time()\n",
    "        py_ = 0\n",
    "\n",
    "        for _ in range(num_samples):\n",
    "            f_s = post_pred.rsample()\n",
    "            py_ += torch.softmax(f_s, 1)\n",
    "\n",
    "\n",
    "        py_ /= num_samples\n",
    "        py_ = py_.detach()\n",
    "\n",
    "        py.append(py_)\n",
    "        t1 = time.time()\n",
    "        if timing:\n",
    "            time_sum += (t1-t0)\n",
    "\n",
    "        if verbose:\n",
    "            print(\"Batch: {}/{}\".format(batch_idx, max_len))\n",
    "    \n",
    "    if timing:\n",
    "        print(\"total time used for transform: {:.05f}\".format(time_sum))\n",
    "\n",
    "    return torch.cat(py, dim=0)"
   ]
  },
  {
   "cell_type": "code",
   "execution_count": 17,
   "metadata": {},
   "outputs": [],
   "source": [
    "BATCH_SIZE_TEST_FMNIST = 128\n",
    "BATCH_SIZE_TEST_KMNIST = 128"
   ]
  },
  {
   "cell_type": "code",
   "execution_count": 18,
   "metadata": {},
   "outputs": [],
   "source": [
    "FMNIST_test = torchvision.datasets.FashionMNIST(\n",
    "        '~/data/fmnist', train=False, download=True,\n",
    "        transform=MNIST_transform)   #torchvision.transforms.ToTensor())\n",
    "\n",
    "FMNIST_test_loader = torch.utils.data.DataLoader(\n",
    "    FMNIST_test,\n",
    "    batch_size=BATCH_SIZE_TEST_FMNIST, shuffle=False)"
   ]
  },
  {
   "cell_type": "code",
   "execution_count": 19,
   "metadata": {},
   "outputs": [],
   "source": [
    "KMNIST_test = torchvision.datasets.KMNIST(\n",
    "        '~/data/kmnist', train=False, download=True,\n",
    "        transform=MNIST_transform)\n",
    "\n",
    "KMNIST_test_loader = torch.utils.data.DataLoader(\n",
    "    KMNIST_test,\n",
    "    batch_size=BATCH_SIZE_TEST_KMNIST, shuffle=False)"
   ]
  },
  {
   "cell_type": "code",
   "execution_count": 20,
   "metadata": {},
   "outputs": [],
   "source": [
    "\"\"\"Load notMNIST\"\"\"\n",
    "\n",
    "import os\n",
    "import numpy as np\n",
    "import torch\n",
    "from PIL import Image\n",
    "from torch.utils.data.dataset import Dataset\n",
    "from matplotlib.pyplot import imread\n",
    "from torch import Tensor\n",
    "\n",
    "\"\"\"\n",
    "Loads the train/test set. \n",
    "Every image in the dataset is 28x28 pixels and the labels are numbered from 0-9\n",
    "for A-J respectively.\n",
    "Set root to point to the Train/Test folders.\n",
    "\"\"\"\n",
    "\n",
    "# Creating a sub class of torch.utils.data.dataset.Dataset\n",
    "class notMNIST(Dataset):\n",
    "\n",
    "    # The init method is called when this class will be instantiated\n",
    "    def __init__(self, root, transform):\n",
    "        \n",
    "        #super(notMNIST, self).__init__(root, transform=transform)\n",
    "\n",
    "        self.transform = transform\n",
    "        \n",
    "        Images, Y = [], []\n",
    "        folders = os.listdir(root)\n",
    "\n",
    "        for folder in folders:\n",
    "            folder_path = os.path.join(root, folder)\n",
    "            for ims in os.listdir(folder_path):\n",
    "                try:\n",
    "                    img_path = os.path.join(folder_path, ims)\n",
    "                    Images.append(np.array(imread(img_path)))\n",
    "                    Y.append(ord(folder) - 65)  # Folders are A-J so labels will be 0-9\n",
    "                except:\n",
    "                    # Some images in the dataset are damaged\n",
    "                    print(\"File {}/{} is broken\".format(folder, ims))\n",
    "        data = [(x, y) for x, y in zip(Images, Y)]\n",
    "        self.data = data\n",
    "        self.targets = torch.Tensor(Y)\n",
    "\n",
    "    # The number of items in the dataset\n",
    "    def __len__(self):\n",
    "        return len(self.data)\n",
    "\n",
    "    # The Dataloader is a generator that repeatedly calls the getitem method.\n",
    "    # getitem is supposed to return (X, Y) for the specified index.\n",
    "    def __getitem__(self, index):\n",
    "        img = self.data[index][0]\n",
    "\n",
    "        if self.transform is not None:\n",
    "            img = self.transform(img)\n",
    "            \n",
    "        # Input for Conv2D should be Channels x Height x Width\n",
    "        img_tensor = Tensor(img).view(1, 28, 28).float()\n",
    "        label = self.data[index][1]\n",
    "        return (img_tensor, label)"
   ]
  },
  {
   "cell_type": "code",
   "execution_count": 21,
   "metadata": {},
   "outputs": [
    {
     "name": "stdout",
     "output_type": "stream",
     "text": [
      "File F/Q3Jvc3NvdmVyIEJvbGRPYmxpcXVlLnR0Zg==.png is broken\n",
      "File A/RGVtb2NyYXRpY2FCb2xkT2xkc3R5bGUgQm9sZC50dGY=.png is broken\n"
     ]
    }
   ],
   "source": [
    "#root = os.path.abspath('~/data')\n",
    "root = os.path.expanduser('~/data')\n",
    "\n",
    "# Instantiating the notMNIST dataset class we created\n",
    "notMNIST_test = notMNIST(root=os.path.join(root, 'notMNIST_small'),\n",
    "                               transform=MNIST_transform)\n",
    "\n",
    "# Creating a dataloader\n",
    "not_mnist_test_loader = torch.utils.data.dataloader.DataLoader(\n",
    "                            dataset=notMNIST_test,\n",
    "                            batch_size=BATCH_SIZE_TEST_KMNIST,\n",
    "                            shuffle=False)"
   ]
  },
  {
   "cell_type": "code",
   "execution_count": 22,
   "metadata": {},
   "outputs": [],
   "source": [
    "def get_in_dist_values(py_in, targets):\n",
    "    acc_in = np.mean(np.argmax(py_in, 1) == targets)\n",
    "    prob_correct = np.choose(targets, py_in.T).mean()\n",
    "    average_entropy = -np.sum(py_in*np.log(py_in+1e-8), axis=1).mean()\n",
    "    MMC = py_in.max(1).mean()\n",
    "    return(acc_in, prob_correct, average_entropy, MMC)\n",
    "    \n",
    "def get_out_dist_values(py_in, py_out, targets):\n",
    "    average_entropy = -np.sum(py_out*np.log(py_out+1e-8), axis=1).mean()\n",
    "    acc_out = np.mean(np.argmax(py_out, 1) == targets)\n",
    "    prob_correct = np.choose(targets, py_out.T).mean()\n",
    "    labels = np.zeros(len(py_in)+len(py_out), dtype='int32')\n",
    "    labels[:len(py_in)] = 1\n",
    "    examples = np.concatenate([py_in.max(1), py_out.max(1)])\n",
    "    auroc = roc_auc_score(labels, examples)\n",
    "    MMC = py_out.max(1).mean()\n",
    "    return(acc_out, prob_correct, average_entropy, MMC, auroc)\n",
    "\n",
    "def print_in_dist_values(acc_in, prob_correct, average_entropy, MMC, train='mnist', method='LLLA-KF'):\n",
    "    \n",
    "    print(f'[In, {method}, {train}] Accuracy: {acc_in:.3f}; average entropy: {average_entropy:.3f}; \\\n",
    "    MMC: {MMC:.3f}; Prob @ correct: {prob_correct:.3f}')\n",
    "\n",
    "\n",
    "def print_out_dist_values(acc_out, prob_correct, average_entropy, MMC, auroc, train='mnist', test='FMNIST', method='LLLA-KF'):\n",
    "   \n",
    "    print(f'[Out-{test}, {method}, {train}] Accuracy: {acc_out:.3f}; Average entropy: {average_entropy:.3f};\\\n",
    "    MMC: {MMC:.3f}; AUROC: {auroc:.3f}; Prob @ correct: {prob_correct:.3f}')"
   ]
  },
  {
   "cell_type": "markdown",
   "metadata": {},
   "source": [
    "# MAP estimate"
   ]
  },
  {
   "cell_type": "code",
   "execution_count": 29,
   "metadata": {},
   "outputs": [],
   "source": [
    "targets = MNIST_test.targets.numpy()\n",
    "targets_FMNIST = FMNIST_test.targets.numpy()\n",
    "targets_notMNIST = notMNIST_test.targets.numpy().astype(int)\n",
    "targets_KMNIST = KMNIST_test.targets.numpy()"
   ]
  },
  {
   "cell_type": "code",
   "execution_count": 21,
   "metadata": {},
   "outputs": [],
   "source": [
    "mnist_test_in_MAP = predict_MAP(mnist_model, mnist_test_loader, cuda=True).cpu().numpy()\n",
    "mnist_test_out_fmnist_MAP = predict_MAP(mnist_model, FMNIST_test_loader, cuda=True).cpu().numpy()\n",
    "mnist_test_out_notMNIST_MAP = predict_MAP(mnist_model, not_mnist_test_loader, cuda=True).cpu().numpy()\n",
    "mnist_test_out_KMNIST_MAP = predict_MAP(mnist_model, KMNIST_test_loader, cuda=True).cpu().numpy()"
   ]
  },
  {
   "cell_type": "code",
   "execution_count": 22,
   "metadata": {},
   "outputs": [],
   "source": [
    "acc_in_MAP, prob_correct_in_MAP, ent_in_MAP, MMC_in_MAP = get_in_dist_values(mnist_test_in_MAP, targets)\n",
    "acc_out_FMNIST_MAP, prob_correct_out_FMNIST_MAP, ent_out_FMNIST_MAP, MMC_out_FMNIST_MAP, auroc_out_FMNIST_MAP = get_out_dist_values(mnist_test_in_MAP, mnist_test_out_fmnist_MAP, targets_FMNIST)\n",
    "acc_out_notMNIST_MAP, prob_correct_out_notMNIST_MAP, ent_out_notMNIST_MAP, MMC_out_notMNIST_MAP, auroc_out_notMNIST_MAP = get_out_dist_values(mnist_test_in_MAP, mnist_test_out_notMNIST_MAP, targets_notMNIST)\n",
    "acc_out_KMNIST_MAP, prob_correct_out_KMNIST_MAP, ent_out_KMNIST_MAP, MMC_out_KMNIST_MAP, auroc_out_KMNIST_MAP = get_out_dist_values(mnist_test_in_MAP, mnist_test_out_KMNIST_MAP, targets_KMNIST)"
   ]
  },
  {
   "cell_type": "code",
   "execution_count": 23,
   "metadata": {},
   "outputs": [
    {
     "name": "stdout",
     "output_type": "stream",
     "text": [
      "[In, MAP, mnist] Accuracy: 0.989; average entropy: 0.035;     MMC: 0.989; Prob @ correct: 0.984\n",
      "[Out-MAP, LLLA-KF, FMNIST] Accuracy: 0.099; Average entropy: 1.392;    MMC: 0.513; AUROC: 0.992; Prob @ correct: 0.107\n",
      "[Out-MAP, LLLA-KF, notMNIST] Accuracy: 0.110; Average entropy: 0.807;    MMC: 0.709; AUROC: 0.952; Prob @ correct: 0.114\n",
      "[Out-MAP, LLLA-KF, KMNIST] Accuracy: 0.085; Average entropy: 0.867;    MMC: 0.687; AUROC: 0.974; Prob @ correct: 0.086\n"
     ]
    }
   ],
   "source": [
    "print_in_dist_values(acc_in_MAP, prob_correct_in_MAP, ent_in_MAP, MMC_in_MAP, 'mnist', 'MAP')\n",
    "print_out_dist_values(acc_out_FMNIST_MAP, prob_correct_out_FMNIST_MAP, ent_out_FMNIST_MAP, MMC_out_FMNIST_MAP, auroc_out_FMNIST_MAP, 'FMNIST', 'MAP')\n",
    "print_out_dist_values(acc_out_notMNIST_MAP, prob_correct_out_notMNIST_MAP, ent_out_notMNIST_MAP, MMC_out_notMNIST_MAP, auroc_out_notMNIST_MAP, 'notMNIST', 'MAP')\n",
    "print_out_dist_values(acc_out_KMNIST_MAP, prob_correct_out_KMNIST_MAP, ent_out_KMNIST_MAP, MMC_out_KMNIST_MAP, auroc_out_KMNIST_MAP, 'KMNIST', 'MAP')"
   ]
  },
  {
   "cell_type": "code",
   "execution_count": 2,
   "metadata": {},
   "outputs": [],
   "source": [
    "import numpy as np"
   ]
  },
  {
   "cell_type": "code",
   "execution_count": 3,
   "metadata": {},
   "outputs": [
    {
     "name": "stdout",
     "output_type": "stream",
     "text": [
      "accuracy: 0.990 with std 0.002\n",
      "MMC in: 0.989 with std 0.001\n",
      "MMC out fmnist: 0.538 with std 0.022\n",
      "MMC out notmnist: 0.706 with std 0.014\n",
      "MMC out kmnist: 0.684 with std 0.015\n",
      "AUROC out fmnist: 0.990 with std 0.001\n",
      "AUROC out notmnist: 0.954 with std 0.007\n",
      "AUROC out kmnist: 0.974 with std 0.005\n"
     ]
    }
   ],
   "source": [
    "#MAP estimate\n",
    "#seeds are 123,124,125,126,127\n",
    "acc_in = [0.991, 0.990, 0.993, 0.988, 0.989]\n",
    "mmc_in = [0.988, 0.990, 0.989, 0.989, 0.989]\n",
    "mmc_out_fmnist = [0.516, 0.571, 0.534, 0.554, 0.513]\n",
    "mmc_out_notmnist = [0.692, 0.731, 0.696, 0.702, 0.709]\n",
    "mmc_out_kmnist = [0.678, 0.697, 0.659, 0.700, 0.687]\n",
    "\n",
    "auroc_out_fmnist = [0.989, 0.990, 0.990, 0.989, 0.992]\n",
    "auroc_out_notmnist = [0.964, 0.942, 0.959, 0.952, 0.952]\n",
    "auroc_out_kmnist = [0.970, 0.977, 0.980, 0.967, 0.974]\n",
    "\n",
    "print(\"accuracy: {:.03f} with std {:.03f}\".format(np.mean(acc_in), np.std(acc_in)))\n",
    "\n",
    "print(\"MMC in: {:.03f} with std {:.03f}\".format(np.mean(mmc_in), np.std(mmc_in)))\n",
    "print(\"MMC out fmnist: {:.03f} with std {:.03f}\".format(np.mean(mmc_out_fmnist), np.std(mmc_out_fmnist)))\n",
    "print(\"MMC out notmnist: {:.03f} with std {:.03f}\".format(np.mean(mmc_out_notmnist), np.std(mmc_out_notmnist)))\n",
    "print(\"MMC out kmnist: {:.03f} with std {:.03f}\".format(np.mean(mmc_out_kmnist), np.std(mmc_out_kmnist)))\n",
    "\n",
    "print(\"AUROC out fmnist: {:.03f} with std {:.03f}\".format(np.mean(auroc_out_fmnist), np.std(auroc_out_fmnist)))\n",
    "print(\"AUROC out notmnist: {:.03f} with std {:.03f}\".format(np.mean(auroc_out_notmnist), np.std(auroc_out_notmnist)))\n",
    "print(\"AUROC out kmnist: {:.03f} with std {:.03f}\".format(np.mean(auroc_out_kmnist), np.std(auroc_out_kmnist)))"
   ]
  },
  {
   "cell_type": "markdown",
   "metadata": {},
   "source": [
    "# Diag Hessian Sampling estimate"
   ]
  },
  {
   "cell_type": "code",
   "execution_count": 25,
   "metadata": {},
   "outputs": [
    {
     "name": "stdout",
     "output_type": "stream",
     "text": [
      "total time used for transform: 6.67633\n",
      "total time used for transform: 6.67161\n",
      "total time used for transform: 12.42572\n",
      "total time used for transform: 6.68149\n"
     ]
    }
   ],
   "source": [
    "mnist_test_in_D = predict_Diagonal_full(mnist_model, mnist_test_loader, Hessian_MNIST, verbose=False, cuda=True, timing=True, num_samples=1000).cpu().numpy()\n",
    "mnist_test_out_FMNIST_D = predict_Diagonal_full(mnist_model, FMNIST_test_loader, Hessian_MNIST, verbose=False, cuda=True, timing=True, num_samples=1000).cpu().numpy()\n",
    "mnist_test_out_notMNIST_D = predict_Diagonal_full(mnist_model, not_mnist_test_loader, Hessian_MNIST, verbose=False, cuda=True, timing=True, num_samples=1000).cpu().numpy()\n",
    "mnist_test_out_KMNIST_D = predict_Diagonal_full(mnist_model, KMNIST_test_loader, Hessian_MNIST, verbose=False, cuda=True, timing=True, num_samples=1000).cpu().numpy()"
   ]
  },
  {
   "cell_type": "code",
   "execution_count": 26,
   "metadata": {},
   "outputs": [],
   "source": [
    "acc_in_D, prob_correct_in_D, ent_in_D, MMC_in_D = get_in_dist_values(mnist_test_in_D, targets)\n",
    "acc_out_FMNIST_D, prob_correct_out_FMNIST_D, ent_out_FMNIST_D, MMC_out_FMNIST_D, auroc_out_FMNIST_D = get_out_dist_values(mnist_test_in_D, mnist_test_out_FMNIST_D, targets_FMNIST)\n",
    "acc_out_notMNIST_D, prob_correct_out_notMNIST_D, ent_out_notMNIST_D, MMC_out_notMNIST_D, auroc_out_notMNIST_D = get_out_dist_values(mnist_test_in_D, mnist_test_out_notMNIST_D, targets_notMNIST)\n",
    "acc_out_KMNIST_D, prob_correct_out_KMNIST_D, ent_out_KMNIST_D, MMC_out_KMNIST_D, auroc_out_KMNIST_D = get_out_dist_values(mnist_test_in_D, mnist_test_out_KMNIST_D, targets_KMNIST)"
   ]
  },
  {
   "cell_type": "code",
   "execution_count": 27,
   "metadata": {},
   "outputs": [
    {
     "name": "stdout",
     "output_type": "stream",
     "text": [
      "[In, Diag, mnist] Accuracy: 0.990; average entropy: 0.224;     MMC: 0.942; Prob @ correct: 0.939\n",
      "[Out-fmnist, Diag, mnist] Accuracy: 0.102; Average entropy: 1.701;    MMC: 0.401; AUROC: 0.992; Prob @ correct: 0.111\n",
      "[Out-notMNIST, Diag, mnist] Accuracy: 0.108; Average entropy: 1.283;    MMC: 0.544; AUROC: 0.959; Prob @ correct: 0.116\n",
      "[Out-KMNIST, Diag, mnist] Accuracy: 0.086; Average entropy: 1.337;    MMC: 0.512; AUROC: 0.975; Prob @ correct: 0.086\n"
     ]
    }
   ],
   "source": [
    "print_in_dist_values(acc_in_D, prob_correct_in_D, ent_in_D, MMC_in_D, 'mnist', 'Diag')\n",
    "print_out_dist_values(acc_out_FMNIST_D, prob_correct_out_FMNIST_D, ent_out_FMNIST_D, MMC_out_FMNIST_D, auroc_out_FMNIST_D, test='fmnist', method='Diag')\n",
    "print_out_dist_values(acc_out_notMNIST_D, prob_correct_out_notMNIST_D, ent_out_notMNIST_D, MMC_out_notMNIST_D, auroc_out_notMNIST_D, test='notMNIST', method='Diag')\n",
    "print_out_dist_values(acc_out_KMNIST_D, prob_correct_out_KMNIST_D, ent_out_KMNIST_D, MMC_out_KMNIST_D, auroc_out_KMNIST_D, test='KMNIST', method='Diag')"
   ]
  },
  {
   "cell_type": "code",
   "execution_count": 6,
   "metadata": {},
   "outputs": [
    {
     "name": "stdout",
     "output_type": "stream",
     "text": [
      "Sampling Bridge time in: 6.619 with std 0.122\n",
      "Sampling Bridge time out fmnist: 6.602 with std 0.123\n",
      "Sampling Bridge time out notmnist: 12.331 with std 0.254\n",
      "Sampling Bridge time out kmnist: 6.626 with std 0.138\n",
      "accuracy: 0.990 with std 0.002\n",
      "MMC in: 0.932 with std 0.007\n",
      "MMC out fmnist: 0.407 with std 0.010\n",
      "MMC out notmnist: 0.535 with std 0.018\n",
      "MMC out kmnist: 0.500 with std 0.014\n",
      "AUROC out fmnist: 0.989 with std 0.002\n",
      "AUROC out notmnist: 0.958 with std 0.006\n",
      "AUROC out kmnist: 0.974 with std 0.005\n"
     ]
    }
   ],
   "source": [
    "#Diag Sampling\n",
    "#seeds are 123,124,125,126,127\n",
    "time_lpb_in = [6.78413, 6.67228, 6.51112,6.44895, 6.67633]\n",
    "time_lpb_out_fmnist = [6.77055, 6.64844, 6.47705,6.44392,6.67161]\n",
    "time_lpb_out_notmnist = [12.65939, 12.49839, 11.99764, 12.07371, 12.42572]\n",
    "time_lpb_out_kmnist = [6.79133, 6.73237, 6.46135, 6.46563, 6.68149]\n",
    "\n",
    "acc_in = [0.991, 0.990, 0.993, 0.988, 0.990]\n",
    "mmc_in = [0.928, 0.938, 0.927, 0.924, 0.942]\n",
    "mmc_out_fmnist = [0.397, 0.426, 0.406, 0.406, 0.401]\n",
    "mmc_out_notmnist = [0.517, 0.560, 0.526, 0.518, 0.554]\n",
    "mmc_out_kmnist = [0.514, 0.503, 0.475, 0.497, 0.512]\n",
    "\n",
    "auroc_out_fmnist = [0.986, 0.990, 0.988, 0.990, 0.992]\n",
    "auroc_out_notmnist = [0.968, 0.948, 0.959, 0.958, 0.959]\n",
    "auroc_out_kmnist = [0.967, 0.978, 0.980, 0.970, 0.975]\n",
    "\n",
    "print(\"Sampling Bridge time in: {:.03f} with std {:.03f}\".format(np.mean(time_lpb_in), np.std(time_lpb_in)))\n",
    "print(\"Sampling Bridge time out fmnist: {:.03f} with std {:.03f}\".format(np.mean(time_lpb_out_fmnist), np.std(time_lpb_out_fmnist)))\n",
    "print(\"Sampling Bridge time out notmnist: {:.03f} with std {:.03f}\".format(np.mean(time_lpb_out_notmnist), np.std(time_lpb_out_notmnist)))\n",
    "print(\"Sampling Bridge time out kmnist: {:.03f} with std {:.03f}\".format(np.mean(time_lpb_out_kmnist), np.std(time_lpb_out_kmnist)))\n",
    "\n",
    "print(\"accuracy: {:.03f} with std {:.03f}\".format(np.mean(acc_in), np.std(acc_in)))\n",
    "\n",
    "print(\"MMC in: {:.03f} with std {:.03f}\".format(np.mean(mmc_in), np.std(mmc_in)))\n",
    "print(\"MMC out fmnist: {:.03f} with std {:.03f}\".format(np.mean(mmc_out_fmnist), np.std(mmc_out_fmnist)))\n",
    "print(\"MMC out notmnist: {:.03f} with std {:.03f}\".format(np.mean(mmc_out_notmnist), np.std(mmc_out_notmnist)))\n",
    "print(\"MMC out kmnist: {:.03f} with std {:.03f}\".format(np.mean(mmc_out_kmnist), np.std(mmc_out_kmnist)))\n",
    "\n",
    "print(\"AUROC out fmnist: {:.03f} with std {:.03f}\".format(np.mean(auroc_out_fmnist), np.std(auroc_out_fmnist)))\n",
    "print(\"AUROC out notmnist: {:.03f} with std {:.03f}\".format(np.mean(auroc_out_notmnist), np.std(auroc_out_notmnist)))\n",
    "print(\"AUROC out kmnist: {:.03f} with std {:.03f}\".format(np.mean(auroc_out_kmnist), np.std(auroc_out_kmnist)))"
   ]
  },
  {
   "cell_type": "markdown",
   "metadata": {},
   "source": [
    "# Dirichlet Laplace Approximation"
   ]
  },
  {
   "cell_type": "code",
   "execution_count": 23,
   "metadata": {},
   "outputs": [],
   "source": [
    "def get_alpha_from_Normal(mu, Sigma):\n",
    "    batch_size, K = mu.size(0), mu.size(-1)\n",
    "    Sigma_d = torch.diagonal(Sigma, dim1=1, dim2=2)\n",
    "    sum_exp = torch.sum(torch.exp(-1*mu), dim=1).view(-1,1)\n",
    "    alpha = 1/Sigma_d * (1 - 2/K + torch.exp(mu)/K**2 * sum_exp)\n",
    "    \n",
    "    assert(alpha.size() == mu.size())\n",
    "    \n",
    "    return(alpha)"
   ]
  },
  {
   "cell_type": "code",
   "execution_count": 24,
   "metadata": {},
   "outputs": [],
   "source": [
    "def predict_DIR_LPA(model, test_loader, Hessian, verbose=True, cuda=False, timing=False):\n",
    "\n",
    "    lossfunc = torch.nn.CrossEntropyLoss()\n",
    "    extend(lossfunc, debug=False)\n",
    "    \n",
    "    alphas = []\n",
    "    if timing:\n",
    "        time_sum = 0\n",
    "\n",
    "    max_len = len(test_loader)\n",
    "    for batch_idx, (x, y) in enumerate(test_loader):\n",
    "        \n",
    "        if cuda:\n",
    "            x, y = x.cuda(), y.cuda()\n",
    "\n",
    "        J = get_Jacobian(model, x, y, lossfunc)\n",
    "        J = J.detach()\n",
    "        batch_size = J.size(0)\n",
    "        num_classes = J.size(1)\n",
    "        Cov_pred = torch.bmm(J * Hessian, J.permute(0, 2, 1))\n",
    "        Cov_pred = Cov_pred.detach()\n",
    "        \n",
    "        mu_pred = model(x).detach()\n",
    "        \n",
    "        t0 = time.time()\n",
    "        alpha = get_alpha_from_Normal(mu_pred, Cov_pred)\n",
    "        t1 = time.time()\n",
    "        alpha = alpha.detach()\n",
    "        if timing:\n",
    "            time_sum += (t1 - t0)\n",
    "\n",
    "        alphas.append(alpha)\n",
    "        \n",
    "        if verbose:\n",
    "            print(\"Batch: {}/{}\".format(batch_idx, max_len))\n",
    "    \n",
    "    if timing:\n",
    "        print(\"total time used for transform: {:.05f}\".format(time_sum))\n",
    "\n",
    "    return(torch.cat(alphas, dim = 0))\n"
   ]
  },
  {
   "cell_type": "code",
   "execution_count": 26,
   "metadata": {},
   "outputs": [
    {
     "name": "stdout",
     "output_type": "stream",
     "text": [
      "total time used for transform: 0.32784\n",
      "total time used for transform: 0.15275\n",
      "total time used for transform: 0.23432\n",
      "total time used for transform: 0.13195\n"
     ]
    }
   ],
   "source": [
    "mnist_test_in_DIR_LPA = predict_DIR_LPA(mnist_model, mnist_test_loader, Hessian_MNIST, verbose=False, cuda=False, timing=True).cpu().numpy()\n",
    "mnist_test_out_FMNIST_DIR_LPA = predict_DIR_LPA(mnist_model, FMNIST_test_loader, Hessian_MNIST, verbose=False, cuda=False, timing=True).cpu().numpy()\n",
    "mnist_test_out_notMNIST_DIR_LPA = predict_DIR_LPA(mnist_model, not_mnist_test_loader, Hessian_MNIST, verbose=False, cuda=False, timing=True).cpu().numpy()\n",
    "mnist_test_out_KMNIST_DIR_LPA = predict_DIR_LPA(mnist_model, KMNIST_test_loader, Hessian_MNIST, verbose=False, cuda=False, timing=True).cpu().numpy()"
   ]
  },
  {
   "cell_type": "code",
   "execution_count": 27,
   "metadata": {},
   "outputs": [],
   "source": [
    "mnist_test_in_DIR_LPAn = mnist_test_in_DIR_LPA/mnist_test_in_DIR_LPA.sum(1).reshape(-1,1)\n",
    "mnist_test_out_FMNIST_DIR_LPAn = mnist_test_out_FMNIST_DIR_LPA/mnist_test_out_FMNIST_DIR_LPA.sum(1).reshape(-1,1)\n",
    "mnist_test_out_notMNIST_DIR_LPAn = mnist_test_out_notMNIST_DIR_LPA/mnist_test_out_notMNIST_DIR_LPA.sum(1).reshape(-1,1)\n",
    "mnist_test_out_KMNIST_DIR_LPAn = mnist_test_out_KMNIST_DIR_LPA/mnist_test_out_KMNIST_DIR_LPA.sum(1).reshape(-1,1)"
   ]
  },
  {
   "cell_type": "code",
   "execution_count": 30,
   "metadata": {},
   "outputs": [],
   "source": [
    "acc_in_DIR_LPAn, prob_correct_in_DIR_LPAn, ent_in_DIR_LPAn, MMC_in_DIR_LPAn = get_in_dist_values(mnist_test_in_DIR_LPAn, targets)\n",
    "acc_out_FMNIST_DIR_LPAn, prob_correct_out_FMNIST_DIR_LPAn, ent_out_FMNIST_DIR_LPAn, MMC_out_FMNIST_DIR_LPAn, auroc_out_FMNIST_DIR_LPAn = get_out_dist_values(mnist_test_in_DIR_LPAn, mnist_test_out_FMNIST_DIR_LPAn, targets_FMNIST)\n",
    "acc_out_notMNIST_DIR_LPAn, prob_correct_out_notMNIST_DIR_LPAn, ent_out_notMNIST_DIR_LPAn, MMC_out_notMNIST_DIR_LPAn, auroc_out_notMNIST_DIR_LPAn = get_out_dist_values(mnist_test_in_DIR_LPAn, mnist_test_out_notMNIST_DIR_LPAn, targets_notMNIST)\n",
    "acc_out_KMNIST_DIR_LPAn, prob_correct_out_KMNIST_DIR_LPAn, ent_out_KMNIST_DIR_LPAn, MMC_out_KMNIST_DIR_LPAn, auroc_out_KMNIST_DIR_LPAn = get_out_dist_values(mnist_test_in_DIR_LPAn, mnist_test_out_KMNIST_DIR_LPAn, targets_KMNIST)"
   ]
  },
  {
   "cell_type": "code",
   "execution_count": 31,
   "metadata": {},
   "outputs": [
    {
     "name": "stdout",
     "output_type": "stream",
     "text": [
      "[In, DIR_LPAn, mnist] Accuracy: 0.984; average entropy: 0.056;     MMC: 0.983; Prob @ correct: 0.975\n",
      "[Out-fmnist, DIR_LPAn, mnist] Accuracy: 0.111; Average entropy: 1.685;    MMC: 0.410; AUROC: 0.990; Prob @ correct: 0.108\n",
      "[Out-notMNIST, DIR_LPAn, mnist] Accuracy: 0.119; Average entropy: 1.121;    MMC: 0.612; AUROC: 0.971; Prob @ correct: 0.121\n",
      "[Out-KMNIST, DIR_LPAn, mnist] Accuracy: 0.091; Average entropy: 1.151;    MMC: 0.601; AUROC: 0.977; Prob @ correct: 0.090\n"
     ]
    }
   ],
   "source": [
    "print_in_dist_values(acc_in_DIR_LPAn, prob_correct_in_DIR_LPAn, ent_in_DIR_LPAn, MMC_in_DIR_LPAn, 'mnist', 'DIR_LPAn')\n",
    "print_out_dist_values(acc_out_FMNIST_DIR_LPAn, prob_correct_out_FMNIST_DIR_LPAn, ent_out_FMNIST_DIR_LPAn, MMC_out_FMNIST_DIR_LPAn, auroc_out_FMNIST_DIR_LPAn, test='fmnist', method='DIR_LPAn')\n",
    "print_out_dist_values(acc_out_notMNIST_DIR_LPAn, prob_correct_out_notMNIST_DIR_LPAn, ent_out_notMNIST_DIR_LPAn, MMC_out_notMNIST_DIR_LPAn, auroc_out_notMNIST_DIR_LPAn, test='notMNIST', method='DIR_LPAn')\n",
    "print_out_dist_values(acc_out_KMNIST_DIR_LPAn, prob_correct_out_KMNIST_DIR_LPAn, ent_out_KMNIST_DIR_LPAn, MMC_out_KMNIST_DIR_LPAn, auroc_out_KMNIST_DIR_LPAn, test='KMNIST', method='DIR_LPAn')"
   ]
  },
  {
   "cell_type": "code",
   "execution_count": 32,
   "metadata": {},
   "outputs": [
    {
     "name": "stdout",
     "output_type": "stream",
     "text": [
      "Laplace Bridge time in: 0.016 with std 0.000\n",
      "Laplace Bridge time out fmnist: 0.016 with std 0.000\n",
      "Laplace Bridge time out notmnist: 0.029 with std 0.000\n",
      "Laplace Bridge time out kmnist: 0.016 with std 0.000\n",
      "accuracy: 0.990 with std 0.002\n",
      "MMC in: 0.987 with std 0.001\n",
      "MMC out fmnist: 0.377 with std 0.019\n",
      "MMC out notmnist: 0.644 with std 0.018\n",
      "MMC out kmnist: 0.630 with std 0.018\n",
      "AUROC out fmnist: 0.994 with std 0.002\n",
      "AUROC out notmnist: 0.962 with std 0.007\n",
      "AUROC out kmnist: 0.975 with std 0.004\n"
     ]
    }
   ],
   "source": [
    "#Laplace Bridge\n",
    "#seeds are 123,124,125,126,127\n",
    "time_lpb_in = [0.01622, 0.01575, 0.01573, 0.01557, 0.01609]\n",
    "time_lpb_out_fmnist = [0.01598, 0.01579, 0.01562, 0.01549, 0.01563]\n",
    "time_lpb_out_notmnist = [0.02956, 0.02926, 0.02902, 0.02869, 0.02892]\n",
    "time_lpb_out_kmnist = [0.01596, 0.01571, 0.01557, 0.01550, 0.01547]\n",
    "\n",
    "acc_in = [0.991, 0.990, 0.993, 0.988, 0.989]\n",
    "mmc_in = [0.984, 0.988, 0.987, 0.988, 0.987]\n",
    "mmc_out_fmnist = [0.368, 0.413, 0.363, 0.378, 0.364]\n",
    "mmc_out_notmnist = [0.626, 0.678, 0.636, 0.638, 0.644]\n",
    "mmc_out_kmnist = [0.628, 0.652, 0.598, 0.639, 0.633]\n",
    "\n",
    "auroc_out_fmnist = [0.991, 0.994, 0.995, 0.995, 0.995]\n",
    "auroc_out_notmnist = [0.970, 0.951, 0.966, 0.963, 0.958]\n",
    "auroc_out_kmnist = [0.969, 0.977, 0.981, 0.972, 0.974]\n",
    "\n",
    "print(\"Laplace Bridge time in: {:.03f} with std {:.03f}\".format(np.mean(time_lpb_in), np.std(time_lpb_in)))\n",
    "print(\"Laplace Bridge time out fmnist: {:.03f} with std {:.03f}\".format(np.mean(time_lpb_out_fmnist), np.std(time_lpb_out_fmnist)))\n",
    "print(\"Laplace Bridge time out notmnist: {:.03f} with std {:.03f}\".format(np.mean(time_lpb_out_notmnist), np.std(time_lpb_out_notmnist)))\n",
    "print(\"Laplace Bridge time out kmnist: {:.03f} with std {:.03f}\".format(np.mean(time_lpb_out_kmnist), np.std(time_lpb_out_kmnist)))\n",
    "\n",
    "print(\"accuracy: {:.03f} with std {:.03f}\".format(np.mean(acc_in), np.std(acc_in)))\n",
    "\n",
    "print(\"MMC in: {:.03f} with std {:.03f}\".format(np.mean(mmc_in), np.std(mmc_in)))\n",
    "print(\"MMC out fmnist: {:.03f} with std {:.03f}\".format(np.mean(mmc_out_fmnist), np.std(mmc_out_fmnist)))\n",
    "print(\"MMC out notmnist: {:.03f} with std {:.03f}\".format(np.mean(mmc_out_notmnist), np.std(mmc_out_notmnist)))\n",
    "print(\"MMC out kmnist: {:.03f} with std {:.03f}\".format(np.mean(mmc_out_kmnist), np.std(mmc_out_kmnist)))\n",
    "\n",
    "print(\"AUROC out fmnist: {:.03f} with std {:.03f}\".format(np.mean(auroc_out_fmnist), np.std(auroc_out_fmnist)))\n",
    "print(\"AUROC out notmnist: {:.03f} with std {:.03f}\".format(np.mean(auroc_out_notmnist), np.std(auroc_out_notmnist)))\n",
    "print(\"AUROC out kmnist: {:.03f} with std {:.03f}\".format(np.mean(auroc_out_kmnist), np.std(auroc_out_kmnist)))"
   ]
  },
  {
   "cell_type": "code",
   "execution_count": 51,
   "metadata": {},
   "outputs": [],
   "source": [
    "# check if condition holds\n",
    "\n",
    "def check_condition(alpha_vecs):\n",
    "    #note that this is vectorized\n",
    "    alpha_sum = alpha_vecs.sum(1)\n",
    "    alpha_max = alpha_vecs.max(1)\n",
    "    alpha_sum_minus = alpha_sum - alpha_max\n",
    "    right_side = 0.25 * (np.sqrt(9 * alpha_sum_minus**2 + 10 * alpha_sum_minus + 1) - alpha_sum_minus - 1)\n",
    "    cases = alpha_max > right_side\n",
    "    percentage = np.sum(cases)/len(cases)\n",
    "    return(percentage)"
   ]
  },
  {
   "cell_type": "code",
   "execution_count": 52,
   "metadata": {},
   "outputs": [
    {
     "name": "stdout",
     "output_type": "stream",
     "text": [
      "0.9999\n",
      "0.4783\n",
      "0.8347041230506302\n",
      "0.8441\n"
     ]
    }
   ],
   "source": [
    "print(np.sum(check_condition(mnist_test_in_DIR_LPA)))\n",
    "print(np.sum(check_condition(mnist_test_out_FMNIST_DIR_LPA)))\n",
    "print(np.sum(check_condition(mnist_test_out_notMNIST_DIR_LPA)))\n",
    "print(np.sum(check_condition(mnist_test_out_KMNIST_DIR_LPA)))"
   ]
  },
  {
   "cell_type": "markdown",
   "metadata": {},
   "source": [
    "# additional Calculations for the Dirichlet"
   ]
  },
  {
   "cell_type": "code",
   "execution_count": null,
   "metadata": {},
   "outputs": [],
   "source": [
    "from scipy.special import digamma, loggamma\n",
    "\n",
    "def beta_function(alpha):\n",
    "    return(np.exp(np.sum([loggamma(a_i) for a_i in alpha]) - loggamma(np.sum(alpha))))\n",
    "\n",
    "def alphas_norm(alphas):\n",
    "    alphas = np.array(alphas)\n",
    "    return(alphas/alphas.sum(axis=1).reshape(-1,1))\n",
    "\n",
    "def alphas_variance(alphas):\n",
    "    alphas = np.array(alphas)\n",
    "    norm = alphas_norm(alphas)\n",
    "    nom = norm * (1 - norm)\n",
    "    den = alphas.sum(axis=1).reshape(-1,1) + 1\n",
    "    return(nom/den)\n",
    "\n",
    "def log_beta_function(alpha):\n",
    "    return(np.sum([loggamma(a_i) for a_i in alpha]) - loggamma(np.sum(alpha)))\n",
    "\n",
    "def alphas_entropy(alphas):\n",
    "    K = len(alphas[0])\n",
    "    alphas = np.array(alphas)\n",
    "    entropy = []\n",
    "    for x in alphas:\n",
    "        B = log_beta_function(x)\n",
    "        alpha_0 = np.sum(x)\n",
    "        C = (alpha_0 - K)*digamma(alpha_0)\n",
    "        D = np.sum((x-1)*digamma(x))\n",
    "        entropy.append(B + C - D)\n",
    "    \n",
    "    return(np.array(entropy))\n",
    "        \n",
    "\n",
    "def alphas_log_prob(alphas):\n",
    "    alphas = np.array(alphas)\n",
    "    dig_sum = digamma(alphas.sum(axis=1).reshape(-1,1))\n",
    "    log_prob = digamma(alphas) - dig_sum\n",
    "    return(log_prob)\n",
    "\n",
    "def auroc_entropy(alphas_in, alphas_out):\n",
    "    \n",
    "    entropy_in = alphas_entropy(alphas_in)\n",
    "    entropy_out = alphas_entropy(alphas_out)\n",
    "    labels = np.zeros(len(entropy_in)+len(entropy_out), dtype='int32')\n",
    "    labels[:len(entropy_in)] = 1\n",
    "    examples = np.concatenate([entropy_in, entropy_out])\n",
    "    auroc_ent = roc_auc_score(labels, examples)\n",
    "    return(auroc_ent)\n",
    "\n",
    "def auroc_variance(alphas_in, alphas_out, method='mean'):\n",
    "    \n",
    "    if method=='mean':\n",
    "        variance_in = alphas_variance(alphas_in).mean(1)\n",
    "        variance_out = alphas_variance(alphas_out).mean(1)\n",
    "    elif method=='max':\n",
    "        variance_in = alphas_variance(alphas_in).max(1)\n",
    "        variance_out = alphas_variance(alphas_out).max(1)\n",
    "    labels = np.zeros(len(variance_in)+len(variance_out), dtype='int32')\n",
    "    labels[:len(variance_in)] = 1\n",
    "    examples = np.concatenate([variance_in, variance_out])\n",
    "    auroc_ent = roc_auc_score(labels, examples)\n",
    "    return(auroc_ent)"
   ]
  },
  {
   "cell_type": "code",
   "execution_count": null,
   "metadata": {
    "scrolled": true
   },
   "outputs": [],
   "source": [
    "print(\"auroc entropy: MNIST in, FMNIST out: \", 1 - auroc_entropy(alphas_in=mnist_test_in_DIR_LPA, alphas_out=mnist_test_out_FMNIST_DIR_LPA))\n",
    "print(\"auroc entropy: MNIST in, notMNIST out: \", 1 - auroc_entropy(alphas_in=mnist_test_in_DIR_LPA, alphas_out=mnist_test_out_notMNIST_DIR_LPA))\n",
    "print(\"auroc entropy: MNIST in, KMNIST out: \", 1 - auroc_entropy(alphas_in=mnist_test_in_DIR_LPA, alphas_out=mnist_test_out_KMNIST_DIR_LPA))"
   ]
  },
  {
   "cell_type": "code",
   "execution_count": null,
   "metadata": {},
   "outputs": [],
   "source": [
    "print(\"auroc variance: MNIST in, FMNIST out: \", 1-auroc_variance(alphas_in=mnist_test_in_DIR_LPA, alphas_out=mnist_test_out_FMNIST_DIR_LPA, method='mean'))\n",
    "print(\"auroc variance: MNIST in, notMNIST out: \", 1-auroc_variance(alphas_in=mnist_test_in_DIR_LPA, alphas_out=mnist_test_out_notMNIST_DIR_LPA, method='mean'))\n",
    "print(\"auroc variance: MNIST in, KMNIST out: \", 1-auroc_variance(alphas_in=mnist_test_in_DIR_LPA, alphas_out=mnist_test_out_KMNIST_DIR_LPA, method='mean'))"
   ]
  },
  {
   "cell_type": "code",
   "execution_count": null,
   "metadata": {},
   "outputs": [],
   "source": [
    "print(\"auroc variance: MNIST in, FMNIST out: \", 1-auroc_variance(alphas_in=mnist_test_in_DIR_LPA, alphas_out=mnist_test_out_FMNIST_DIR_LPA, method='max'))\n",
    "print(\"auroc variance: MNIST in, notMNIST out: \", 1-auroc_variance(alphas_in=mnist_test_in_DIR_LPA, alphas_out=mnist_test_out_notMNIST_DIR_LPA, method='max'))\n",
    "print(\"auroc variance: MNIST in, KMNIST out: \", 1-auroc_variance(alphas_in=mnist_test_in_DIR_LPA, alphas_out=mnist_test_out_KMNIST_DIR_LPA, method='max'))"
   ]
  },
  {
   "cell_type": "code",
   "execution_count": null,
   "metadata": {},
   "outputs": [],
   "source": []
  }
 ],
 "metadata": {
  "kernelspec": {
   "display_name": "Python 3",
   "language": "python",
   "name": "python3"
  },
  "language_info": {
   "codemirror_mode": {
    "name": "ipython",
    "version": 3
   },
   "file_extension": ".py",
   "mimetype": "text/x-python",
   "name": "python",
   "nbconvert_exporter": "python",
   "pygments_lexer": "ipython3",
   "version": "3.7.3"
  }
 },
 "nbformat": 4,
 "nbformat_minor": 4
}
